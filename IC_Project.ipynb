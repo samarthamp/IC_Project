{
  "nbformat": 4,
  "nbformat_minor": 0,
  "metadata": {
    "colab": {
      "provenance": [],
      "include_colab_link": true
    },
    "kernelspec": {
      "name": "python3",
      "display_name": "Python 3"
    },
    "language_info": {
      "name": "python"
    }
  },
  "cells": [
    {
      "cell_type": "markdown",
      "metadata": {
        "id": "view-in-github",
        "colab_type": "text"
      },
      "source": [
        "<a href=\"https://colab.research.google.com/github/samarthamp/IC_Project/blob/main/IC_Project.ipynb\" target=\"_parent\"><img src=\"https://colab.research.google.com/assets/colab-badge.svg\" alt=\"Open In Colab\"/></a>"
      ]
    },
    {
      "cell_type": "code",
      "execution_count": null,
      "metadata": {
        "colab": {
          "base_uri": "https://localhost:8080/"
        },
        "id": "2pe72VBf26GF",
        "outputId": "1dabbaaf-4eda-43ab-e177-78aa22dc8de0"
      },
      "outputs": [
        {
          "output_type": "stream",
          "name": "stdout",
          "text": [
            "\u001b[33m\r0% [Working]\u001b[0m\r            \rHit:1 https://cloud.r-project.org/bin/linux/ubuntu jammy-cran40/ InRelease\n",
            "\u001b[33m\r0% [Connecting to archive.ubuntu.com] [Waiting for headers] [Connecting to ppa.\u001b[0m\r                                                                               \rHit:2 http://security.ubuntu.com/ubuntu jammy-security InRelease\n",
            "Hit:3 https://developer.download.nvidia.com/compute/cuda/repos/ubuntu2204/x86_64  InRelease\n",
            "Hit:4 http://archive.ubuntu.com/ubuntu jammy InRelease\n",
            "Hit:5 http://archive.ubuntu.com/ubuntu jammy-updates InRelease\n",
            "Hit:6 http://archive.ubuntu.com/ubuntu jammy-backports InRelease\n",
            "Hit:7 https://ppa.launchpadcontent.net/c2d4u.team/c2d4u4.0+/ubuntu jammy InRelease\n",
            "Hit:8 https://ppa.launchpadcontent.net/deadsnakes/ppa/ubuntu jammy InRelease\n",
            "Hit:9 https://ppa.launchpadcontent.net/graphics-drivers/ppa/ubuntu jammy InRelease\n",
            "Hit:10 https://ppa.launchpadcontent.net/ubuntugis/ppa/ubuntu jammy InRelease\n",
            "Reading package lists... Done\n",
            "Building dependency tree... Done\n",
            "Reading state information... Done\n",
            "43 packages can be upgraded. Run 'apt list --upgradable' to see them.\n",
            "Reading package lists... Done\n",
            "Building dependency tree... Done\n",
            "Reading state information... Done\n",
            "libcairo2-dev is already the newest version (1.16.0-5ubuntu2).\n",
            "texlive is already the newest version (2021.20220204-1).\n",
            "texlive-fonts-extra is already the newest version (2021.20220204-1).\n",
            "texlive-latex-extra is already the newest version (2021.20220204-1).\n",
            "texlive-latex-recommended is already the newest version (2021.20220204-1).\n",
            "texlive-science is already the newest version (2021.20220204-1).\n",
            "tipa is already the newest version (2:1.3-21).\n",
            "libpango1.0-dev is already the newest version (1.50.6+ds-2ubuntu1).\n",
            "ffmpeg is already the newest version (7:4.4.2-0ubuntu0.22.04.1).\n",
            "0 upgraded, 0 newly installed, 0 to remove and 43 not upgraded.\n",
            "Requirement already satisfied: manim in /usr/local/lib/python3.10/dist-packages (0.18.0.post0)\n",
            "Requirement already satisfied: Pillow<10.0,>=9.1 in /usr/local/lib/python3.10/dist-packages (from manim) (9.4.0)\n",
            "Requirement already satisfied: Pygments<3.0.0,>=2.10.0 in /usr/local/lib/python3.10/dist-packages (from manim) (2.16.1)\n",
            "Requirement already satisfied: click<=9.0,>=7.2 in /usr/local/lib/python3.10/dist-packages (from manim) (8.1.7)\n",
            "Requirement already satisfied: click-default-group<2.0.0,>=1.2.2 in /usr/local/lib/python3.10/dist-packages (from manim) (1.2.4)\n",
            "Requirement already satisfied: cloup<2.2,>=0.13 in /usr/local/lib/python3.10/dist-packages (from manim) (2.1.2)\n",
            "Requirement already satisfied: decorator<6.0.0,>=5.0.7 in /usr/local/lib/python3.10/dist-packages (from manim) (5.1.1)\n",
            "Requirement already satisfied: isosurfaces==0.1.0 in /usr/local/lib/python3.10/dist-packages (from manim) (0.1.0)\n",
            "Requirement already satisfied: manimpango<1.0.0,>=0.5.0 in /usr/local/lib/python3.10/dist-packages (from manim) (0.5.0)\n",
            "Requirement already satisfied: mapbox-earcut<2.0.0,>=1.0.0 in /usr/local/lib/python3.10/dist-packages (from manim) (1.0.1)\n",
            "Requirement already satisfied: moderngl<6.0.0,>=5.6.3 in /usr/local/lib/python3.10/dist-packages (from manim) (5.10.0)\n",
            "Requirement already satisfied: moderngl-window<3.0.0,>=2.3.0 in /usr/local/lib/python3.10/dist-packages (from manim) (2.4.4)\n",
            "Requirement already satisfied: networkx<3.3,>=2.5 in /usr/local/lib/python3.10/dist-packages (from manim) (3.2.1)\n",
            "Requirement already satisfied: numpy<2.0,>=1.22 in /usr/local/lib/python3.10/dist-packages (from manim) (1.25.2)\n",
            "Requirement already satisfied: pycairo<2.0,>=1.21 in /usr/local/lib/python3.10/dist-packages (from manim) (1.26.0)\n",
            "Requirement already satisfied: pydub<0.26.0,>=0.25.1 in /usr/local/lib/python3.10/dist-packages (from manim) (0.25.1)\n",
            "Requirement already satisfied: requests<3.0.0,>=2.26.0 in /usr/local/lib/python3.10/dist-packages (from manim) (2.31.0)\n",
            "Requirement already satisfied: rich!=12.0.0,>=6.0 in /usr/local/lib/python3.10/dist-packages (from manim) (13.7.1)\n",
            "Requirement already satisfied: scipy<2.0.0,>=1.7.3 in /usr/local/lib/python3.10/dist-packages (from manim) (1.11.4)\n",
            "Requirement already satisfied: screeninfo<0.9,>=0.8 in /usr/local/lib/python3.10/dist-packages (from manim) (0.8.1)\n",
            "Requirement already satisfied: skia-pathops<0.8.0,>=0.7.0 in /usr/local/lib/python3.10/dist-packages (from manim) (0.7.4)\n",
            "Requirement already satisfied: srt<4.0.0,>=3.5.0 in /usr/local/lib/python3.10/dist-packages (from manim) (3.5.3)\n",
            "Requirement already satisfied: svgelements<2.0.0,>=1.8.0 in /usr/local/lib/python3.10/dist-packages (from manim) (1.9.6)\n",
            "Requirement already satisfied: tqdm<5.0.0,>=4.62.3 in /usr/local/lib/python3.10/dist-packages (from manim) (4.66.2)\n",
            "Requirement already satisfied: typing-extensions<5.0.0,>=4.7.1 in /usr/local/lib/python3.10/dist-packages (from manim) (4.10.0)\n",
            "Requirement already satisfied: watchdog<=3.0.0,>=2.1 in /usr/local/lib/python3.10/dist-packages (from manim) (3.0.0)\n",
            "Requirement already satisfied: glcontext<3,>=2.5.0 in /usr/local/lib/python3.10/dist-packages (from moderngl<6.0.0,>=5.6.3->manim) (2.5.0)\n",
            "Requirement already satisfied: pyglet>=2.0dev23 in /usr/local/lib/python3.10/dist-packages (from moderngl-window<3.0.0,>=2.3.0->manim) (2.1.dev1)\n",
            "Requirement already satisfied: pyrr<1,>=0.10.3 in /usr/local/lib/python3.10/dist-packages (from moderngl-window<3.0.0,>=2.3.0->manim) (0.10.3)\n",
            "Requirement already satisfied: charset-normalizer<4,>=2 in /usr/local/lib/python3.10/dist-packages (from requests<3.0.0,>=2.26.0->manim) (3.3.2)\n",
            "Requirement already satisfied: idna<4,>=2.5 in /usr/local/lib/python3.10/dist-packages (from requests<3.0.0,>=2.26.0->manim) (3.6)\n",
            "Requirement already satisfied: urllib3<3,>=1.21.1 in /usr/local/lib/python3.10/dist-packages (from requests<3.0.0,>=2.26.0->manim) (2.0.7)\n",
            "Requirement already satisfied: certifi>=2017.4.17 in /usr/local/lib/python3.10/dist-packages (from requests<3.0.0,>=2.26.0->manim) (2024.2.2)\n",
            "Requirement already satisfied: markdown-it-py>=2.2.0 in /usr/local/lib/python3.10/dist-packages (from rich!=12.0.0,>=6.0->manim) (3.0.0)\n",
            "Requirement already satisfied: mdurl~=0.1 in /usr/local/lib/python3.10/dist-packages (from markdown-it-py>=2.2.0->rich!=12.0.0,>=6.0->manim) (0.1.2)\n",
            "Requirement already satisfied: multipledispatch in /usr/local/lib/python3.10/dist-packages (from pyrr<1,>=0.10.3->moderngl-window<3.0.0,>=2.3.0->manim) (1.0.0)\n",
            "Requirement already satisfied: IPython in /usr/local/lib/python3.10/dist-packages (7.34.0)\n",
            "Requirement already satisfied: setuptools>=18.5 in /usr/local/lib/python3.10/dist-packages (from IPython) (67.7.2)\n",
            "Collecting jedi>=0.16 (from IPython)\n",
            "  Using cached jedi-0.19.1-py2.py3-none-any.whl (1.6 MB)\n",
            "Requirement already satisfied: decorator in /usr/local/lib/python3.10/dist-packages (from IPython) (5.1.1)\n",
            "Requirement already satisfied: pickleshare in /usr/local/lib/python3.10/dist-packages (from IPython) (0.7.5)\n",
            "Requirement already satisfied: traitlets>=4.2 in /usr/local/lib/python3.10/dist-packages (from IPython) (5.7.1)\n",
            "Requirement already satisfied: prompt-toolkit!=3.0.0,!=3.0.1,<3.1.0,>=2.0.0 in /usr/local/lib/python3.10/dist-packages (from IPython) (3.0.43)\n",
            "Requirement already satisfied: pygments in /usr/local/lib/python3.10/dist-packages (from IPython) (2.16.1)\n",
            "Requirement already satisfied: backcall in /usr/local/lib/python3.10/dist-packages (from IPython) (0.2.0)\n",
            "Requirement already satisfied: matplotlib-inline in /usr/local/lib/python3.10/dist-packages (from IPython) (0.1.6)\n",
            "Requirement already satisfied: pexpect>4.3 in /usr/local/lib/python3.10/dist-packages (from IPython) (4.9.0)\n",
            "Requirement already satisfied: parso<0.9.0,>=0.8.3 in /usr/local/lib/python3.10/dist-packages (from jedi>=0.16->IPython) (0.8.3)\n",
            "Requirement already satisfied: ptyprocess>=0.5 in /usr/local/lib/python3.10/dist-packages (from pexpect>4.3->IPython) (0.7.0)\n",
            "Requirement already satisfied: wcwidth in /usr/local/lib/python3.10/dist-packages (from prompt-toolkit!=3.0.0,!=3.0.1,<3.1.0,>=2.0.0->IPython) (0.2.13)\n",
            "Installing collected packages: jedi\n",
            "Successfully installed jedi-0.19.1\n"
          ]
        }
      ],
      "source": [
        "!sudo apt update\n",
        "!sudo apt install libcairo2-dev ffmpeg \\\n",
        "    texlive texlive-latex-extra texlive-fonts-extra \\\n",
        "    texlive-latex-recommended texlive-science \\\n",
        "    tipa libpango1.0-dev\n",
        "!pip install manim\n",
        "!pip install IPython"
      ]
    },
    {
      "cell_type": "code",
      "source": [
        "from manim import *"
      ],
      "metadata": {
        "id": "IP9X4ADe4wQf",
        "colab": {
          "base_uri": "https://localhost:8080/",
          "height": 49
        },
        "outputId": "3dc73733-bfcd-4715-9938-1475315fb895"
      },
      "execution_count": null,
      "outputs": [
        {
          "output_type": "display_data",
          "data": {
            "text/plain": [
              "Manim Community \u001b[32mv0.\u001b[0m\u001b[32m18.0\u001b[0m\u001b[32m.post0\u001b[0m\n",
              "\n"
            ],
            "text/html": [
              "<pre style=\"white-space:pre;overflow-x:auto;line-height:normal;font-family:Menlo,'DejaVu Sans Mono',consolas,'Courier New',monospace\">Manim Community <span style=\"color: #008000; text-decoration-color: #008000\">v0.18.0.post0</span>\n",
              "\n",
              "</pre>\n"
            ]
          },
          "metadata": {}
        }
      ]
    },
    {
      "cell_type": "code",
      "source": [
        "!sudo apt update\n",
        "!sudo apt install libcairo2-dev ffmpeg \\\n",
        "    texlive texlive-latex-extra texlive-fonts-extra \\\n",
        "    texlive-latex-recommended texlive-science \\\n",
        "    tipa libpango1.0-dev\n",
        "!pip install manim\n",
        "!pip install IPython"
      ],
      "metadata": {
        "colab": {
          "base_uri": "https://localhost:8080/"
        },
        "id": "wAy91C0hOLR5",
        "outputId": "6607a726-a5b1-4541-dea3-9347658a04d4"
      },
      "execution_count": null,
      "outputs": [
        {
          "output_type": "stream",
          "name": "stdout",
          "text": [
            "\u001b[33m\r0% [Working]\u001b[0m\r            \rHit:1 https://cloud.r-project.org/bin/linux/ubuntu jammy-cran40/ InRelease\n",
            "Hit:2 https://developer.download.nvidia.com/compute/cuda/repos/ubuntu2204/x86_64  InRelease\n",
            "Hit:3 http://security.ubuntu.com/ubuntu jammy-security InRelease\n",
            "Hit:4 http://archive.ubuntu.com/ubuntu jammy InRelease\n",
            "Hit:5 http://archive.ubuntu.com/ubuntu jammy-updates InRelease\n",
            "Hit:6 http://archive.ubuntu.com/ubuntu jammy-backports InRelease\n",
            "Hit:7 https://ppa.launchpadcontent.net/c2d4u.team/c2d4u4.0+/ubuntu jammy InRelease\n",
            "Hit:8 https://ppa.launchpadcontent.net/deadsnakes/ppa/ubuntu jammy InRelease\n",
            "Hit:9 https://ppa.launchpadcontent.net/graphics-drivers/ppa/ubuntu jammy InRelease\n",
            "Hit:10 https://ppa.launchpadcontent.net/ubuntugis/ppa/ubuntu jammy InRelease\n",
            "Reading package lists... Done\n",
            "Building dependency tree... Done\n",
            "Reading state information... Done\n",
            "43 packages can be upgraded. Run 'apt list --upgradable' to see them.\n",
            "Reading package lists... Done\n",
            "Building dependency tree... Done\n",
            "Reading state information... Done\n",
            "libcairo2-dev is already the newest version (1.16.0-5ubuntu2).\n",
            "texlive is already the newest version (2021.20220204-1).\n",
            "texlive-fonts-extra is already the newest version (2021.20220204-1).\n",
            "texlive-latex-extra is already the newest version (2021.20220204-1).\n",
            "texlive-latex-recommended is already the newest version (2021.20220204-1).\n",
            "texlive-science is already the newest version (2021.20220204-1).\n",
            "tipa is already the newest version (2:1.3-21).\n",
            "libpango1.0-dev is already the newest version (1.50.6+ds-2ubuntu1).\n",
            "ffmpeg is already the newest version (7:4.4.2-0ubuntu0.22.04.1).\n",
            "0 upgraded, 0 newly installed, 0 to remove and 43 not upgraded.\n",
            "Requirement already satisfied: manim in /usr/local/lib/python3.10/dist-packages (0.18.0.post0)\n",
            "Requirement already satisfied: Pillow<10.0,>=9.1 in /usr/local/lib/python3.10/dist-packages (from manim) (9.4.0)\n",
            "Requirement already satisfied: Pygments<3.0.0,>=2.10.0 in /usr/local/lib/python3.10/dist-packages (from manim) (2.16.1)\n",
            "Requirement already satisfied: click<=9.0,>=7.2 in /usr/local/lib/python3.10/dist-packages (from manim) (8.1.7)\n",
            "Requirement already satisfied: click-default-group<2.0.0,>=1.2.2 in /usr/local/lib/python3.10/dist-packages (from manim) (1.2.4)\n",
            "Requirement already satisfied: cloup<2.2,>=0.13 in /usr/local/lib/python3.10/dist-packages (from manim) (2.1.2)\n",
            "Requirement already satisfied: decorator<6.0.0,>=5.0.7 in /usr/local/lib/python3.10/dist-packages (from manim) (5.1.1)\n",
            "Requirement already satisfied: isosurfaces==0.1.0 in /usr/local/lib/python3.10/dist-packages (from manim) (0.1.0)\n",
            "Requirement already satisfied: manimpango<1.0.0,>=0.5.0 in /usr/local/lib/python3.10/dist-packages (from manim) (0.5.0)\n",
            "Requirement already satisfied: mapbox-earcut<2.0.0,>=1.0.0 in /usr/local/lib/python3.10/dist-packages (from manim) (1.0.1)\n",
            "Requirement already satisfied: moderngl<6.0.0,>=5.6.3 in /usr/local/lib/python3.10/dist-packages (from manim) (5.10.0)\n",
            "Requirement already satisfied: moderngl-window<3.0.0,>=2.3.0 in /usr/local/lib/python3.10/dist-packages (from manim) (2.4.4)\n",
            "Requirement already satisfied: networkx<3.3,>=2.5 in /usr/local/lib/python3.10/dist-packages (from manim) (3.2.1)\n",
            "Requirement already satisfied: numpy<2.0,>=1.22 in /usr/local/lib/python3.10/dist-packages (from manim) (1.25.2)\n",
            "Requirement already satisfied: pycairo<2.0,>=1.21 in /usr/local/lib/python3.10/dist-packages (from manim) (1.26.0)\n",
            "Requirement already satisfied: pydub<0.26.0,>=0.25.1 in /usr/local/lib/python3.10/dist-packages (from manim) (0.25.1)\n",
            "Requirement already satisfied: requests<3.0.0,>=2.26.0 in /usr/local/lib/python3.10/dist-packages (from manim) (2.31.0)\n",
            "Requirement already satisfied: rich!=12.0.0,>=6.0 in /usr/local/lib/python3.10/dist-packages (from manim) (13.7.1)\n",
            "Requirement already satisfied: scipy<2.0.0,>=1.7.3 in /usr/local/lib/python3.10/dist-packages (from manim) (1.11.4)\n",
            "Requirement already satisfied: screeninfo<0.9,>=0.8 in /usr/local/lib/python3.10/dist-packages (from manim) (0.8.1)\n",
            "Requirement already satisfied: skia-pathops<0.8.0,>=0.7.0 in /usr/local/lib/python3.10/dist-packages (from manim) (0.7.4)\n",
            "Requirement already satisfied: srt<4.0.0,>=3.5.0 in /usr/local/lib/python3.10/dist-packages (from manim) (3.5.3)\n",
            "Requirement already satisfied: svgelements<2.0.0,>=1.8.0 in /usr/local/lib/python3.10/dist-packages (from manim) (1.9.6)\n",
            "Requirement already satisfied: tqdm<5.0.0,>=4.62.3 in /usr/local/lib/python3.10/dist-packages (from manim) (4.66.2)\n",
            "Requirement already satisfied: typing-extensions<5.0.0,>=4.7.1 in /usr/local/lib/python3.10/dist-packages (from manim) (4.10.0)\n",
            "Requirement already satisfied: watchdog<=3.0.0,>=2.1 in /usr/local/lib/python3.10/dist-packages (from manim) (3.0.0)\n",
            "Requirement already satisfied: glcontext<3,>=2.5.0 in /usr/local/lib/python3.10/dist-packages (from moderngl<6.0.0,>=5.6.3->manim) (2.5.0)\n",
            "Requirement already satisfied: pyglet>=2.0dev23 in /usr/local/lib/python3.10/dist-packages (from moderngl-window<3.0.0,>=2.3.0->manim) (2.1.dev1)\n",
            "Requirement already satisfied: pyrr<1,>=0.10.3 in /usr/local/lib/python3.10/dist-packages (from moderngl-window<3.0.0,>=2.3.0->manim) (0.10.3)\n",
            "Requirement already satisfied: charset-normalizer<4,>=2 in /usr/local/lib/python3.10/dist-packages (from requests<3.0.0,>=2.26.0->manim) (3.3.2)\n",
            "Requirement already satisfied: idna<4,>=2.5 in /usr/local/lib/python3.10/dist-packages (from requests<3.0.0,>=2.26.0->manim) (3.6)\n",
            "Requirement already satisfied: urllib3<3,>=1.21.1 in /usr/local/lib/python3.10/dist-packages (from requests<3.0.0,>=2.26.0->manim) (2.0.7)\n",
            "Requirement already satisfied: certifi>=2017.4.17 in /usr/local/lib/python3.10/dist-packages (from requests<3.0.0,>=2.26.0->manim) (2024.2.2)\n",
            "Requirement already satisfied: markdown-it-py>=2.2.0 in /usr/local/lib/python3.10/dist-packages (from rich!=12.0.0,>=6.0->manim) (3.0.0)\n",
            "Requirement already satisfied: mdurl~=0.1 in /usr/local/lib/python3.10/dist-packages (from markdown-it-py>=2.2.0->rich!=12.0.0,>=6.0->manim) (0.1.2)\n",
            "Requirement already satisfied: multipledispatch in /usr/local/lib/python3.10/dist-packages (from pyrr<1,>=0.10.3->moderngl-window<3.0.0,>=2.3.0->manim) (1.0.0)\n",
            "Requirement already satisfied: IPython in /usr/local/lib/python3.10/dist-packages (7.34.0)\n",
            "Requirement already satisfied: setuptools>=18.5 in /usr/local/lib/python3.10/dist-packages (from IPython) (67.7.2)\n",
            "Collecting jedi>=0.16 (from IPython)\n",
            "  Downloading jedi-0.19.1-py2.py3-none-any.whl (1.6 MB)\n",
            "\u001b[2K     \u001b[90m━━━━━━━━━━━━━━━━━━━━━━━━━━━━━━━━━━━━━━━━\u001b[0m \u001b[32m1.6/1.6 MB\u001b[0m \u001b[31m15.2 MB/s\u001b[0m eta \u001b[36m0:00:00\u001b[0m\n",
            "\u001b[?25hRequirement already satisfied: decorator in /usr/local/lib/python3.10/dist-packages (from IPython) (5.1.1)\n",
            "Requirement already satisfied: pickleshare in /usr/local/lib/python3.10/dist-packages (from IPython) (0.7.5)\n",
            "Requirement already satisfied: traitlets>=4.2 in /usr/local/lib/python3.10/dist-packages (from IPython) (5.7.1)\n",
            "Requirement already satisfied: prompt-toolkit!=3.0.0,!=3.0.1,<3.1.0,>=2.0.0 in /usr/local/lib/python3.10/dist-packages (from IPython) (3.0.43)\n",
            "Requirement already satisfied: pygments in /usr/local/lib/python3.10/dist-packages (from IPython) (2.16.1)\n",
            "Requirement already satisfied: backcall in /usr/local/lib/python3.10/dist-packages (from IPython) (0.2.0)\n",
            "Requirement already satisfied: matplotlib-inline in /usr/local/lib/python3.10/dist-packages (from IPython) (0.1.6)\n",
            "Requirement already satisfied: pexpect>4.3 in /usr/local/lib/python3.10/dist-packages (from IPython) (4.9.0)\n",
            "Requirement already satisfied: parso<0.9.0,>=0.8.3 in /usr/local/lib/python3.10/dist-packages (from jedi>=0.16->IPython) (0.8.3)\n",
            "Requirement already satisfied: ptyprocess>=0.5 in /usr/local/lib/python3.10/dist-packages (from pexpect>4.3->IPython) (0.7.0)\n",
            "Requirement already satisfied: wcwidth in /usr/local/lib/python3.10/dist-packages (from prompt-toolkit!=3.0.0,!=3.0.1,<3.1.0,>=2.0.0->IPython) (0.2.13)\n",
            "Installing collected packages: jedi\n",
            "Successfully installed jedi-0.19.1\n"
          ]
        }
      ]
    },
    {
      "cell_type": "code",
      "source": [
        "%%manim -qm -v WARNING SquareToCircle\n",
        "\n",
        "class SquareToCircle(Scene):\n",
        "   def construct(self):\n",
        "      square = Square()\n",
        "      circle = Circle()\n",
        "      circle.set_fill(PINK, opacity=0.5)\n",
        "      self.play(Create(square))\n",
        "      self.play(Transform(square, circle))\n",
        "      self.wait()"
      ],
      "metadata": {
        "colab": {
          "base_uri": "https://localhost:8080/",
          "height": 351
        },
        "id": "ypiKzPF76Lri",
        "outputId": "b3dcafc8-f72f-4964-8285-8b7b00c68b86"
      },
      "execution_count": null,
      "outputs": [
        {
          "output_type": "stream",
          "name": "stderr",
          "text": []
        },
        {
          "output_type": "display_data",
          "data": {
            "text/plain": [
              "<IPython.core.display.Video object>"
            ],
            "text/html": [
              "<video controls autoplay loop style=\"max-width: 60%;\"  >\n",
              " <source src=\"data:video/mp4;base64,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\" type=\"video/mp4\">\n",
              " Your browser does not support the video tag.\n",
              " </video>"
            ]
          },
          "metadata": {}
        }
      ]
    }
  ]
}